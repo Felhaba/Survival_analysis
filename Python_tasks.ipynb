{
  "nbformat": 4,
  "nbformat_minor": 0,
  "metadata": {
    "colab": {
      "provenance": [],
      "collapsed_sections": [],
      "authorship_tag": "ABX9TyNl3dUBP2A/OTqe+j9mLV9D",
      "include_colab_link": true
    },
    "kernelspec": {
      "name": "python3",
      "display_name": "Python 3"
    },
    "language_info": {
      "name": "python"
    }
  },
  "cells": [
    {
      "cell_type": "markdown",
      "metadata": {
        "id": "view-in-github",
        "colab_type": "text"
      },
      "source": [
        "<a href=\"https://colab.research.google.com/github/Felgaba/Survival_analysis/blob/main/Python_tasks.ipynb\" target=\"_parent\"><img src=\"https://colab.research.google.com/assets/colab-badge.svg\" alt=\"Open In Colab\"/></a>"
      ]
    },
    {
      "cell_type": "markdown",
      "source": [
        "#### **Разбор заданий из плейлиста [Ave Coder](https://www.youtube.com/playlist?list=PLPPIc-4tm3YSc6wN8Yhstdu-jucdWqL0_)**"
      ],
      "metadata": {
        "id": "b_ASSwN07m3i"
      }
    },
    {
      "cell_type": "markdown",
      "source": [
        "**Задание 1**  \n",
        "Написать функцию для определения, является ли предложенное слово [палиндромом](https://ru.wikipedia.org/wiki/%D0%9F%D0%B0%D0%BB%D0%B8%D0%BD%D0%B4%D1%80%D0%BE%D0%BC) (String).  \n",
        "**Вход:** слово или предложение (String);  \n",
        "**Выход:** Boolean (True/False);  \n",
        "**Условия:** Только буквы ('A-Z'), игнорируем регистр ('Z'=='z')."
      ],
      "metadata": {
        "id": "l577Iskt7vSS"
      }
    },
    {
      "cell_type": "code",
      "source": [
        "import re"
      ],
      "metadata": {
        "id": "QrwT_jL2Die-"
      },
      "execution_count": null,
      "outputs": []
    },
    {
      "cell_type": "code",
      "source": [
        "def is_palindrome(word):\n",
        "  forwards = ''.join(re.findall(r'[a-z]+', word.lower())) #найти от 1 и больше a-z, регистр и пробелы/апострофы не важны\n",
        "  backwards = forwards[::-1]\n",
        "  return forwards == backwards"
      ],
      "metadata": {
        "id": "mgypbXmzA_Sw"
      },
      "execution_count": null,
      "outputs": []
    },
    {
      "cell_type": "code",
      "source": [
        "is_palindrome('ave coder')"
      ],
      "metadata": {
        "colab": {
          "base_uri": "https://localhost:8080/"
        },
        "id": "nvmDl8B_DloV",
        "outputId": "6998eb13-f7c9-4d04-9bc7-e7961180f903"
      },
      "execution_count": null,
      "outputs": [
        {
          "output_type": "execute_result",
          "data": {
            "text/plain": [
              "False"
            ]
          },
          "metadata": {},
          "execution_count": 8
        }
      ]
    },
    {
      "cell_type": "markdown",
      "source": [
        "**Задание 2**  \n",
        "Написать функцию, задающую некоторый период времени и запускающую таймер после нажатия клавиши Enter. После повторного нажатия Enter таймер останавливается и на экран выводится прошедшее время.  \n",
        "**1)** Если меньше заявленного времени - too fast;  \n",
        "**2)** Если больше - too slow;  \n",
        "**3)** Если время совпадает - on time. "
      ],
      "metadata": {
        "id": "xy0RQNNmEQJY"
      }
    },
    {
      "cell_type": "code",
      "source": [
        "import time\n",
        "import random"
      ],
      "metadata": {
        "id": "4Gu0gXDfKS87"
      },
      "execution_count": null,
      "outputs": []
    },
    {
      "cell_type": "code",
      "source": [
        "def on_time_game(left, right):\n",
        "  target = random.randint(left, right)\n",
        "  print('Your target time is {} seconds'.format(target))\n",
        "\n",
        "  input('--Press Enter to Begin--')\n",
        "  start = time.perf_counter() # \"включить\" секундомер\n",
        "\n",
        "  input('--Press Enter after {} seconds--'.format(target))\n",
        "  elapsed = time.perf_counter() - start\n",
        "\n",
        "  print('Elapsed time: {0:.3f} seconds'.format(elapsed))\n",
        "  diff = abs(elapsed-target)\n",
        "\n",
        "  if elapsed == target:\n",
        "    print('You are on time!')\n",
        "  elif elapsed < target:\n",
        "    print('{0:.3f} seconds too fast'.format(diff))\n",
        "  elif elapsed > target:\n",
        "    print('{0:.3f} seconds too slow'.format(diff))"
      ],
      "metadata": {
        "id": "iMfXdZ4QPbX8"
      },
      "execution_count": null,
      "outputs": []
    },
    {
      "cell_type": "code",
      "source": [
        "on_time_game(3, 6)"
      ],
      "metadata": {
        "colab": {
          "base_uri": "https://localhost:8080/"
        },
        "id": "1EpUkajpSIKz",
        "outputId": "a038bc82-1d3c-4808-de80-68295e16f817"
      },
      "execution_count": null,
      "outputs": [
        {
          "output_type": "stream",
          "name": "stdout",
          "text": [
            "Your target time is 6 seconds\n",
            "--Press Enter to Begin--\n",
            "--Press Enter after 6 seconds--\n",
            "Elapsed time: 0.823 seconds\n",
            "5.177 seconds too fast\n"
          ]
        }
      ]
    },
    {
      "cell_type": "markdown",
      "source": [
        "**Задача 3**  \n",
        "Простые множители (простые делители) целого числа.  \n",
        "**Вход:** целое число (Int);  \n",
        "**Выход:** список из простых множителей заданного числа.\n"
      ],
      "metadata": {
        "id": "jlqjJBt8SdoZ"
      }
    },
    {
      "cell_type": "code",
      "source": [
        "def prime_factors(n):\n",
        "    i = 2\n",
        "    factors = []\n",
        "    while i * i <= n: # достаточно посмотреть не более sqrt(n) делителей для данной итерации n, \n",
        "    # тк любое число можно представить как произведение условно \"меньшего\" и \"большего\" или двух одинаковых, которые в произведении должны быть не больше самого числа\n",
        "        if n % i: # если остаток не 0, увеличиваем делитель\n",
        "            i += 1\n",
        "        else:\n",
        "            n /= i # пересчитываем n (остаток после деления)\n",
        "            factors.append(i) # добавляем в список новый простой делитель\n",
        "    if n > 1: # добавим остаток в список\n",
        "        factors.append(n)\n",
        "    return factors"
      ],
      "metadata": {
        "id": "RW-Xx-4Dav1t"
      },
      "execution_count": null,
      "outputs": []
    },
    {
      "cell_type": "markdown",
      "source": [
        "`if` после `while` нужен, чтобы не единичный остаток не выпал, т.к проверка `while` не проходит (последний делитель больше корня или его квадрат больше самого числа): $3 > \\sqrt{5} \\Leftrightarrow 3^2 > 5$"
      ],
      "metadata": {
        "id": "0er9MtRrjrt4"
      }
    },
    {
      "cell_type": "code",
      "source": [
        "prime_factors(180)"
      ],
      "metadata": {
        "colab": {
          "base_uri": "https://localhost:8080/"
        },
        "id": "JJ9XEZmwcReQ",
        "outputId": "7ca566d2-e0d4-4865-fc21-f84acd6b2903"
      },
      "execution_count": null,
      "outputs": [
        {
          "output_type": "execute_result",
          "data": {
            "text/plain": [
              "[2, 2, 3, 3, 5]"
            ]
          },
          "metadata": {},
          "execution_count": 45
        }
      ]
    },
    {
      "cell_type": "markdown",
      "source": [
        "2 раза делим на 2 (вызываем `else`), потом 2 раза делим на 3 (также `else`). При этом остаток от деления также нужно сравнивать с квадратом делителя (корнем из числа). "
      ],
      "metadata": {
        "id": "uPKLmVlljjx5"
      }
    },
    {
      "cell_type": "markdown",
      "source": [
        "**Задача 4** \n",
        "https://www.youtube.com/watch?v=t0K-lMZsatI&list=PLPPIc-4tm3YSc6wN8Yhstdu-jucdWqL0_&index=4"
      ],
      "metadata": {
        "id": "8P7qCoQhks95"
      }
    }
  ]
}